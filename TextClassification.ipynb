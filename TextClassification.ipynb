{
  "nbformat": 4,
  "nbformat_minor": 0,
  "metadata": {
    "colab": {
      "name": "Untitled0.ipynb",
      "version": "0.3.2",
      "provenance": [],
      "collapsed_sections": [],
      "include_colab_link": true
    },
    "kernelspec": {
      "name": "python3",
      "display_name": "Python 3"
    }
  },
  "cells": [
    {
      "cell_type": "markdown",
      "metadata": {
        "id": "view-in-github",
        "colab_type": "text"
      },
      "source": [
        "<a href=\"https://colab.research.google.com/github/Dayn9/LearnTensorFlow/blob/master/TextClassification.ipynb\" target=\"_parent\"><img src=\"https://colab.research.google.com/assets/colab-badge.svg\" alt=\"Open In Colab\"/></a>"
      ]
    },
    {
      "cell_type": "markdown",
      "metadata": {
        "id": "HbsEDyP0Bx0a",
        "colab_type": "text"
      },
      "source": [
        "https://www.tensorflow.org/tutorials/keras/basic_text_classification\n"
      ]
    },
    {
      "cell_type": "code",
      "metadata": {
        "id": "CEMNfbFRBPEy",
        "colab_type": "code",
        "outputId": "e4c95cb3-563d-4488-e061-881817e64233",
        "colab": {
          "base_uri": "https://localhost:8080/",
          "height": 51
        }
      },
      "source": [
        "from __future__ import absolute_import, division, print_function\n",
        "\n",
        "import tensorflow as tf\n",
        "from tensorflow import keras\n",
        "\n",
        "!pip install numpy==1.16.1\n",
        "import numpy as np\n",
        "\n",
        "print(tf.__version__)"
      ],
      "execution_count": 2,
      "outputs": [
        {
          "output_type": "stream",
          "text": [
            "Requirement already satisfied: numpy==1.16.1 in /usr/local/lib/python3.6/dist-packages (1.16.1)\n",
            "1.13.1\n"
          ],
          "name": "stdout"
        }
      ]
    },
    {
      "cell_type": "code",
      "metadata": {
        "id": "lwSub1pPB9_R",
        "colab_type": "code",
        "colab": {}
      },
      "source": [
        "imdb = keras.datasets.imdb\n",
        "\n",
        "(train_data, train_labels), (test_data, test_labels) = imdb.load_data(num_words=10000)"
      ],
      "execution_count": 0,
      "outputs": []
    },
    {
      "cell_type": "code",
      "metadata": {
        "id": "Yv5SCsvwCBJY",
        "colab_type": "code",
        "colab": {
          "base_uri": "https://localhost:8080/",
          "height": 88
        },
        "outputId": "a867053e-9214-4d32-87db-503bb18aa358"
      },
      "source": [
        "print(\"Training entries: {}, labels: {}\".format(len(train_data), len(train_labels)))\n",
        "print(train_data[0]) #show a list of the word indexs\n",
        "len(train_data[0]), len(train_data[1]) #the data has different lengths and will need to be reformatted later"
      ],
      "execution_count": 6,
      "outputs": [
        {
          "output_type": "stream",
          "text": [
            "Training entries: 25000, labels: 25000\n",
            "[1, 14, 22, 16, 43, 530, 973, 1622, 1385, 65, 458, 4468, 66, 3941, 4, 173, 36, 256, 5, 25, 100, 43, 838, 112, 50, 670, 2, 9, 35, 480, 284, 5, 150, 4, 172, 112, 167, 2, 336, 385, 39, 4, 172, 4536, 1111, 17, 546, 38, 13, 447, 4, 192, 50, 16, 6, 147, 2025, 19, 14, 22, 4, 1920, 4613, 469, 4, 22, 71, 87, 12, 16, 43, 530, 38, 76, 15, 13, 1247, 4, 22, 17, 515, 17, 12, 16, 626, 18, 2, 5, 62, 386, 12, 8, 316, 8, 106, 5, 4, 2223, 5244, 16, 480, 66, 3785, 33, 4, 130, 12, 16, 38, 619, 5, 25, 124, 51, 36, 135, 48, 25, 1415, 33, 6, 22, 12, 215, 28, 77, 52, 5, 14, 407, 16, 82, 2, 8, 4, 107, 117, 5952, 15, 256, 4, 2, 7, 3766, 5, 723, 36, 71, 43, 530, 476, 26, 400, 317, 46, 7, 4, 2, 1029, 13, 104, 88, 4, 381, 15, 297, 98, 32, 2071, 56, 26, 141, 6, 194, 7486, 18, 4, 226, 22, 21, 134, 476, 26, 480, 5, 144, 30, 5535, 18, 51, 36, 28, 224, 92, 25, 104, 4, 226, 65, 16, 38, 1334, 88, 12, 16, 283, 5, 16, 4472, 113, 103, 32, 15, 16, 5345, 19, 178, 32]\n"
          ],
          "name": "stdout"
        },
        {
          "output_type": "execute_result",
          "data": {
            "text/plain": [
              "(218, 189)"
            ]
          },
          "metadata": {
            "tags": []
          },
          "execution_count": 6
        }
      ]
    },
    {
      "cell_type": "code",
      "metadata": {
        "id": "O6Jun3dcDjlD",
        "colab_type": "code",
        "colab": {
          "base_uri": "https://localhost:8080/",
          "height": 51
        },
        "outputId": "b48a212b-ff35-48af-ed2e-5d4e4f368a61"
      },
      "source": [
        "# A dictionary mapping words to an integer index\n",
        "word_index = imdb.get_word_index()\n",
        "\n",
        "# The first indices are reserved\n",
        "word_index = {k:(v+3) for k,v in word_index.items()} \n",
        "word_index[\"<PAD>\"] = 0\n",
        "word_index[\"<START>\"] = 1\n",
        "word_index[\"<UNK>\"] = 2  # unknown\n",
        "word_index[\"<UNUSED>\"] = 3\n",
        "\n",
        "reverse_word_index = dict([(value, key) for (key, value) in word_index.items()])\n",
        "\n",
        "def decode_review(text):\n",
        "    return ' '.join([reverse_word_index.get(i, '?') for i in text])"
      ],
      "execution_count": 7,
      "outputs": [
        {
          "output_type": "stream",
          "text": [
            "Downloading data from https://storage.googleapis.com/tensorflow/tf-keras-datasets/imdb_word_index.json\n",
            "1646592/1641221 [==============================] - 0s 0us/step\n"
          ],
          "name": "stdout"
        }
      ]
    },
    {
      "cell_type": "code",
      "metadata": {
        "id": "v59PB-wTEl0h",
        "colab_type": "code",
        "colab": {
          "base_uri": "https://localhost:8080/",
          "height": 54
        },
        "outputId": "477d5ef5-15a6-49fc-93f2-c233a6a77a37"
      },
      "source": [
        "decode_review(train_data[0])"
      ],
      "execution_count": 8,
      "outputs": [
        {
          "output_type": "execute_result",
          "data": {
            "text/plain": [
              "\"<START> this film was just brilliant casting location scenery story direction everyone's really suited the part they played and you could just imagine being there robert <UNK> is an amazing actor and now the same being director <UNK> father came from the same scottish island as myself so i loved the fact there was a real connection with this film the witty remarks throughout the film were great it was just brilliant so much that i bought the film as soon as it was released for <UNK> and would recommend it to everyone to watch and the fly fishing was amazing really cried at the end it was so sad and you know what they say if you cry at a film it must have been good and this definitely was also <UNK> to the two little boy's that played the <UNK> of norman and paul they were just brilliant children are often left out of the <UNK> list i think because the stars that play them all grown up are such a big profile for the whole film but these children are amazing and should be praised for what they have done don't you think the whole story was so lovely because it was true and was someone's life after all that was shared with us all\""
            ]
          },
          "metadata": {
            "tags": []
          },
          "execution_count": 8
        }
      ]
    },
    {
      "cell_type": "code",
      "metadata": {
        "id": "_4dmIxFPEplI",
        "colab_type": "code",
        "colab": {
          "base_uri": "https://localhost:8080/",
          "height": 34
        },
        "outputId": "6082d093-f3c8-41fa-843e-842aa433eddb"
      },
      "source": [
        "#reformat the data \n",
        "\n",
        "train_data = keras.preprocessing.sequence.pad_sequences(train_data,\n",
        "                                                        value=word_index[\"<PAD>\"],\n",
        "                                                        padding='post',\n",
        "                                                        maxlen=256)\n",
        "\n",
        "test_data = keras.preprocessing.sequence.pad_sequences(test_data,\n",
        "                                                       value=word_index[\"<PAD>\"],\n",
        "                                                       padding='post',\n",
        "                                                       maxlen=256)\n",
        "len(train_data[0]), len(train_data[1])"
      ],
      "execution_count": 10,
      "outputs": [
        {
          "output_type": "execute_result",
          "data": {
            "text/plain": [
              "(256, 256)"
            ]
          },
          "metadata": {
            "tags": []
          },
          "execution_count": 10
        }
      ]
    },
    {
      "cell_type": "markdown",
      "metadata": {
        "id": "uAQM89IOGyaG",
        "colab_type": "text"
      },
      "source": [
        "The first layer is an **Embedding layer**. This layer takes the integer-encoded vocabulary and looks up the embedding vector for each word-index. These vectors are learned as the model trains. The vectors add a dimension to the output array. The resulting dimensions are: (batch, sequence, embedding).\n",
        "\n",
        "\n",
        "Next, a **GlobalAveragePooling1D layer** returns a fixed-length output vector for each example by averaging over the sequence dimension. This allows the model to handle input of variable length, in the simplest way possible.\n",
        "\n",
        "\n",
        "This fixed-length output vector is piped through a **fully-connected (Dense) layer** with 16 hidden units.\n",
        "\n",
        "\n",
        "The last layer is densely connected with a single output node. Using the sigmoid activation function, this value is a float between 0 and 1, representing a probability, or confidence level."
      ]
    },
    {
      "cell_type": "code",
      "metadata": {
        "id": "QZ9cQe3FGML0",
        "colab_type": "code",
        "colab": {
          "base_uri": "https://localhost:8080/",
          "height": 343
        },
        "outputId": "39d7ee75-ca3f-4836-ff54-c79e011bcbfb"
      },
      "source": [
        "# input shape is the vocabulary count used for the movie reviews (10,000 words)\n",
        "vocab_size = 10000\n",
        "\n",
        "model = keras.Sequential()\n",
        "model.add(keras.layers.Embedding(vocab_size, 16))\n",
        "model.add(keras.layers.GlobalAveragePooling1D())\n",
        "model.add(keras.layers.Dense(16, activation=tf.nn.relu))\n",
        "model.add(keras.layers.Dense(1, activation=tf.nn.sigmoid))\n",
        "\n",
        "model.summary()"
      ],
      "execution_count": 11,
      "outputs": [
        {
          "output_type": "stream",
          "text": [
            "WARNING:tensorflow:From /usr/local/lib/python3.6/dist-packages/tensorflow/python/ops/resource_variable_ops.py:435: colocate_with (from tensorflow.python.framework.ops) is deprecated and will be removed in a future version.\n",
            "Instructions for updating:\n",
            "Colocations handled automatically by placer.\n",
            "_________________________________________________________________\n",
            "Layer (type)                 Output Shape              Param #   \n",
            "=================================================================\n",
            "embedding (Embedding)        (None, None, 16)          160000    \n",
            "_________________________________________________________________\n",
            "global_average_pooling1d (Gl (None, 16)                0         \n",
            "_________________________________________________________________\n",
            "dense (Dense)                (None, 16)                272       \n",
            "_________________________________________________________________\n",
            "dense_1 (Dense)              (None, 1)                 17        \n",
            "=================================================================\n",
            "Total params: 160,289\n",
            "Trainable params: 160,289\n",
            "Non-trainable params: 0\n",
            "_________________________________________________________________\n"
          ],
          "name": "stdout"
        }
      ]
    },
    {
      "cell_type": "code",
      "metadata": {
        "id": "2bZTThIuGb9z",
        "colab_type": "code",
        "colab": {}
      },
      "source": [
        "model.compile(optimizer='adam',\n",
        "              loss='binary_crossentropy',\n",
        "              metrics=['acc']) #abreviation for accuracy "
      ],
      "execution_count": 0,
      "outputs": []
    },
    {
      "cell_type": "code",
      "metadata": {
        "id": "XGMcpUWnHSRw",
        "colab_type": "code",
        "colab": {}
      },
      "source": [
        "#set aside some values in the training set to use for validation\n",
        "x_val = train_data[:10000]\n",
        "partial_x_train = train_data[10000:]\n",
        "\n",
        "y_val = train_labels[:10000]\n",
        "partial_y_train = train_labels[10000:]"
      ],
      "execution_count": 0,
      "outputs": []
    },
    {
      "cell_type": "code",
      "metadata": {
        "id": "qPeAlbLcH9x3",
        "colab_type": "code",
        "colab": {
          "base_uri": "https://localhost:8080/",
          "height": 1465
        },
        "outputId": "95906b85-b300-45da-a37b-7e31924b6aa8"
      },
      "source": [
        "history = model.fit(partial_x_train,\n",
        "                    partial_y_train,\n",
        "                    epochs=40,\n",
        "                    batch_size=512,\n",
        "                    validation_data=(x_val, y_val),\n",
        "                    verbose=1)"
      ],
      "execution_count": 14,
      "outputs": [
        {
          "output_type": "stream",
          "text": [
            "Train on 15000 samples, validate on 10000 samples\n",
            "WARNING:tensorflow:From /usr/local/lib/python3.6/dist-packages/tensorflow/python/ops/math_ops.py:3066: to_int32 (from tensorflow.python.ops.math_ops) is deprecated and will be removed in a future version.\n",
            "Instructions for updating:\n",
            "Use tf.cast instead.\n",
            "Epoch 1/40\n",
            "15000/15000 [==============================] - 1s 68us/sample - loss: 0.6915 - acc: 0.5112 - val_loss: 0.6893 - val_acc: 0.5239\n",
            "Epoch 2/40\n",
            "15000/15000 [==============================] - 1s 52us/sample - loss: 0.6850 - acc: 0.6235 - val_loss: 0.6811 - val_acc: 0.6411\n",
            "Epoch 3/40\n",
            "15000/15000 [==============================] - 1s 52us/sample - loss: 0.6724 - acc: 0.6897 - val_loss: 0.6660 - val_acc: 0.7104\n",
            "Epoch 4/40\n",
            "15000/15000 [==============================] - 1s 49us/sample - loss: 0.6517 - acc: 0.7221 - val_loss: 0.6428 - val_acc: 0.7504\n",
            "Epoch 5/40\n",
            "15000/15000 [==============================] - 1s 50us/sample - loss: 0.6221 - acc: 0.7701 - val_loss: 0.6124 - val_acc: 0.7736\n",
            "Epoch 6/40\n",
            "15000/15000 [==============================] - 1s 51us/sample - loss: 0.5850 - acc: 0.8052 - val_loss: 0.5768 - val_acc: 0.7892\n",
            "Epoch 7/40\n",
            "15000/15000 [==============================] - 1s 50us/sample - loss: 0.5432 - acc: 0.8230 - val_loss: 0.5368 - val_acc: 0.8166\n",
            "Epoch 8/40\n",
            "15000/15000 [==============================] - 1s 52us/sample - loss: 0.5000 - acc: 0.8449 - val_loss: 0.4986 - val_acc: 0.8292\n",
            "Epoch 9/40\n",
            "15000/15000 [==============================] - 1s 51us/sample - loss: 0.4584 - acc: 0.8575 - val_loss: 0.4627 - val_acc: 0.8424\n",
            "Epoch 10/40\n",
            "15000/15000 [==============================] - 1s 50us/sample - loss: 0.4202 - acc: 0.8706 - val_loss: 0.4318 - val_acc: 0.8486\n",
            "Epoch 11/40\n",
            "15000/15000 [==============================] - 1s 51us/sample - loss: 0.3867 - acc: 0.8781 - val_loss: 0.4051 - val_acc: 0.8575\n",
            "Epoch 12/40\n",
            "15000/15000 [==============================] - 1s 53us/sample - loss: 0.3577 - acc: 0.8869 - val_loss: 0.3843 - val_acc: 0.8589\n",
            "Epoch 13/40\n",
            "15000/15000 [==============================] - 1s 51us/sample - loss: 0.3335 - acc: 0.8933 - val_loss: 0.3651 - val_acc: 0.8658\n",
            "Epoch 14/40\n",
            "15000/15000 [==============================] - 1s 51us/sample - loss: 0.3118 - acc: 0.8977 - val_loss: 0.3511 - val_acc: 0.8689\n",
            "Epoch 15/40\n",
            "15000/15000 [==============================] - 1s 52us/sample - loss: 0.2936 - acc: 0.9023 - val_loss: 0.3387 - val_acc: 0.8726\n",
            "Epoch 16/40\n",
            "15000/15000 [==============================] - 1s 52us/sample - loss: 0.2773 - acc: 0.9074 - val_loss: 0.3290 - val_acc: 0.8745\n",
            "Epoch 17/40\n",
            "15000/15000 [==============================] - 1s 52us/sample - loss: 0.2624 - acc: 0.9131 - val_loss: 0.3205 - val_acc: 0.8756\n",
            "Epoch 18/40\n",
            "15000/15000 [==============================] - 1s 54us/sample - loss: 0.2493 - acc: 0.9168 - val_loss: 0.3131 - val_acc: 0.8782\n",
            "Epoch 19/40\n",
            "15000/15000 [==============================] - 1s 52us/sample - loss: 0.2374 - acc: 0.9199 - val_loss: 0.3071 - val_acc: 0.8793\n",
            "Epoch 20/40\n",
            "15000/15000 [==============================] - 1s 51us/sample - loss: 0.2268 - acc: 0.9234 - val_loss: 0.3028 - val_acc: 0.8801\n",
            "Epoch 21/40\n",
            "15000/15000 [==============================] - 1s 51us/sample - loss: 0.2161 - acc: 0.9284 - val_loss: 0.2991 - val_acc: 0.8807\n",
            "Epoch 22/40\n",
            "15000/15000 [==============================] - 1s 50us/sample - loss: 0.2071 - acc: 0.9300 - val_loss: 0.2950 - val_acc: 0.8839\n",
            "Epoch 23/40\n",
            "15000/15000 [==============================] - 1s 50us/sample - loss: 0.1980 - acc: 0.9332 - val_loss: 0.2931 - val_acc: 0.8824\n",
            "Epoch 24/40\n",
            "15000/15000 [==============================] - 1s 51us/sample - loss: 0.1902 - acc: 0.9373 - val_loss: 0.2911 - val_acc: 0.8838\n",
            "Epoch 25/40\n",
            "15000/15000 [==============================] - 1s 53us/sample - loss: 0.1822 - acc: 0.9418 - val_loss: 0.2884 - val_acc: 0.8837\n",
            "Epoch 26/40\n",
            "15000/15000 [==============================] - 1s 51us/sample - loss: 0.1751 - acc: 0.9437 - val_loss: 0.2884 - val_acc: 0.8838\n",
            "Epoch 27/40\n",
            "15000/15000 [==============================] - 1s 54us/sample - loss: 0.1684 - acc: 0.9467 - val_loss: 0.2869 - val_acc: 0.8844\n",
            "Epoch 28/40\n",
            "15000/15000 [==============================] - 1s 52us/sample - loss: 0.1619 - acc: 0.9497 - val_loss: 0.2870 - val_acc: 0.8852\n",
            "Epoch 29/40\n",
            "15000/15000 [==============================] - 1s 52us/sample - loss: 0.1564 - acc: 0.9529 - val_loss: 0.2871 - val_acc: 0.8839\n",
            "Epoch 30/40\n",
            "15000/15000 [==============================] - 1s 50us/sample - loss: 0.1505 - acc: 0.9536 - val_loss: 0.2863 - val_acc: 0.8862\n",
            "Epoch 31/40\n",
            "15000/15000 [==============================] - 1s 49us/sample - loss: 0.1445 - acc: 0.9574 - val_loss: 0.2865 - val_acc: 0.8862\n",
            "Epoch 32/40\n",
            "15000/15000 [==============================] - 1s 51us/sample - loss: 0.1392 - acc: 0.9599 - val_loss: 0.2873 - val_acc: 0.8853\n",
            "Epoch 33/40\n",
            "15000/15000 [==============================] - 1s 49us/sample - loss: 0.1340 - acc: 0.9607 - val_loss: 0.2888 - val_acc: 0.8862\n",
            "Epoch 34/40\n",
            "15000/15000 [==============================] - 1s 50us/sample - loss: 0.1294 - acc: 0.9627 - val_loss: 0.2903 - val_acc: 0.8855\n",
            "Epoch 35/40\n",
            "15000/15000 [==============================] - 1s 49us/sample - loss: 0.1252 - acc: 0.9633 - val_loss: 0.2914 - val_acc: 0.8865\n",
            "Epoch 36/40\n",
            "15000/15000 [==============================] - 1s 48us/sample - loss: 0.1205 - acc: 0.9665 - val_loss: 0.2926 - val_acc: 0.8858\n",
            "Epoch 37/40\n",
            "15000/15000 [==============================] - 1s 49us/sample - loss: 0.1160 - acc: 0.9683 - val_loss: 0.2947 - val_acc: 0.8856\n",
            "Epoch 38/40\n",
            "15000/15000 [==============================] - 1s 50us/sample - loss: 0.1119 - acc: 0.9695 - val_loss: 0.2973 - val_acc: 0.8843\n",
            "Epoch 39/40\n",
            "15000/15000 [==============================] - 1s 52us/sample - loss: 0.1087 - acc: 0.9699 - val_loss: 0.3002 - val_acc: 0.8841\n",
            "Epoch 40/40\n",
            "15000/15000 [==============================] - 1s 50us/sample - loss: 0.1045 - acc: 0.9724 - val_loss: 0.3021 - val_acc: 0.8844\n"
          ],
          "name": "stdout"
        }
      ]
    },
    {
      "cell_type": "code",
      "metadata": {
        "id": "lOiF1Ci8IOxm",
        "colab_type": "code",
        "colab": {
          "base_uri": "https://localhost:8080/",
          "height": 51
        },
        "outputId": "abc87ebd-07d0-4e69-f94c-e1a16194d58d"
      },
      "source": [
        "\n",
        "#test the model\n",
        "results = model.evaluate(test_data, test_labels)\n",
        "print(results)"
      ],
      "execution_count": 16,
      "outputs": [
        {
          "output_type": "stream",
          "text": [
            "25000/25000 [==============================] - 1s 41us/sample - loss: 0.4728 - acc: 0.8576\n",
            "[0.47275450432777405, 0.8576]\n"
          ],
          "name": "stdout"
        }
      ]
    },
    {
      "cell_type": "code",
      "metadata": {
        "id": "NbLGONN6IZZ-",
        "colab_type": "code",
        "colab": {
          "base_uri": "https://localhost:8080/",
          "height": 34
        },
        "outputId": "d0c541cd-c066-4c41-a9c9-5456dae48fa0"
      },
      "source": [
        "history_dict = history.history\n",
        "history_dict.keys()"
      ],
      "execution_count": 17,
      "outputs": [
        {
          "output_type": "execute_result",
          "data": {
            "text/plain": [
              "dict_keys(['loss', 'acc', 'val_loss', 'val_acc'])"
            ]
          },
          "metadata": {
            "tags": []
          },
          "execution_count": 17
        }
      ]
    },
    {
      "cell_type": "code",
      "metadata": {
        "id": "hDe-4Zx5I23V",
        "colab_type": "code",
        "colab": {
          "base_uri": "https://localhost:8080/",
          "height": 295
        },
        "outputId": "8ca9ef3e-b30f-4425-bc55-c5d9db19edd1"
      },
      "source": [
        "\n",
        "#import plotting library\n",
        "import matplotlib.pyplot as plt\n",
        "\n",
        "acc = history_dict['acc']\n",
        "val_acc = history_dict['val_acc']\n",
        "loss = history_dict['loss']\n",
        "val_loss = history_dict['val_loss']\n",
        "\n",
        "epochs = range(1, len(acc) + 1)\n",
        "\n",
        "# \"bo\" is for \"blue dot\"\n",
        "plt.plot(epochs, loss, 'bo', label='Training loss')\n",
        "# b is for \"solid blue line\"\n",
        "plt.plot(epochs, val_loss, 'b', label='Validation loss')\n",
        "plt.title('Training and validation loss')\n",
        "plt.xlabel('Epochs')\n",
        "plt.ylabel('Loss')\n",
        "plt.legend()\n",
        "\n",
        "plt.show()"
      ],
      "execution_count": 18,
      "outputs": [
        {
          "output_type": "display_data",
          "data": {
            "image/png": "[encoded data removed]",
            "text/plain": [
              "<Figure size 432x288 with 1 Axes>"
            ]
          },
          "metadata": {
            "tags": []
          }
        }
      ]
    },
    {
      "cell_type": "code",
      "metadata": {
        "id": "U7khB6kRI9ek",
        "colab_type": "code",
        "colab": {
          "base_uri": "https://localhost:8080/",
          "height": 295
        },
        "outputId": "3ca8b2b7-cdb9-4c21-e689-36f9af1fd53a"
      },
      "source": [
        "plt.clf()   # clear figure\n",
        "\n",
        "plt.plot(epochs, acc, 'bo', label='Training acc')\n",
        "plt.plot(epochs, val_acc, 'b', label='Validation acc')\n",
        "plt.title('Training and validation accuracy')\n",
        "plt.xlabel('Epochs')\n",
        "plt.ylabel('Accuracy')\n",
        "plt.legend()\n",
        "\n",
        "plt.show()"
      ],
      "execution_count": 19,
      "outputs": [
        {
          "output_type": "display_data",
          "data": {
            "image/png": "[encoded data removed]",
            "text/plain": [
              "<Figure size 432x288 with 1 Axes>"
            ]
          },
          "metadata": {
            "tags": []
          }
        }
      ]
    },
    {
      "cell_type": "code",
      "metadata": {
        "id": "yo0cta2lJU6D",
        "colab_type": "code",
        "colab": {}
      },
      "source": [
        "#@title MIT License\n",
        "#\n",
        "# Copyright (c) 2017 François Chollet\n",
        "#\n",
        "# Permission is hereby granted, free of charge, to any person obtaining a\n",
        "# copy of this software and associated documentation files (the \"Software\"),\n",
        "# to deal in the Software without restriction, including without limitation\n",
        "# the rights to use, copy, modify, merge, publish, distribute, sublicense,\n",
        "# and/or sell copies of the Software, and to permit persons to whom the\n",
        "# Software is furnished to do so, subject to the following conditions:\n",
        "#\n",
        "# The above copyright notice and this permission notice shall be included in\n",
        "# all copies or substantial portions of the Software.\n",
        "#\n",
        "# THE SOFTWARE IS PROVIDED \"AS IS\", WITHOUT WARRANTY OF ANY KIND, EXPRESS OR\n",
        "# IMPLIED, INCLUDING BUT NOT LIMITED TO THE WARRANTIES OF MERCHANTABILITY,\n",
        "# FITNESS FOR A PARTICULAR PURPOSE AND NONINFRINGEMENT. IN NO EVENT SHALL\n",
        "# THE AUTHORS OR COPYRIGHT HOLDERS BE LIABLE FOR ANY CLAIM, DAMAGES OR OTHER\n",
        "# LIABILITY, WHETHER IN AN ACTION OF CONTRACT, TORT OR OTHERWISE, ARISING\n",
        "# FROM, OUT OF OR IN CONNECTION WITH THE SOFTWARE OR THE USE OR OTHER\n",
        "# DEALINGS IN THE SOFTWARE."
      ],
      "execution_count": 0,
      "outputs": []
    },
    {
      "cell_type": "code",
      "metadata": {
        "id": "dtmaP0UQJgaa",
        "colab_type": "code",
        "colab": {}
      },
      "source": [
        ""
      ],
      "execution_count": 0,
      "outputs": []
    }
  ]
}