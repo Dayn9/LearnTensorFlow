{
  "nbformat": 4,
  "nbformat_minor": 0,
  "metadata": {
    "colab": {
      "name": "Eager.ipynb",
      "version": "0.3.2",
      "provenance": [],
      "include_colab_link": true
    },
    "kernelspec": {
      "name": "python3",
      "display_name": "Python 3"
    }
  },
  "cells": [
    {
      "cell_type": "markdown",
      "metadata": {
        "id": "view-in-github",
        "colab_type": "text"
      },
      "source": [
        "<a href=\"https://colab.research.google.com/github/Dayn9/LearnTensorFlow/blob/master/Eager.ipynb\" target=\"_parent\"><img src=\"https://colab.research.google.com/assets/colab-badge.svg\" alt=\"Open In Colab\"/></a>"
      ]
    },
    {
      "cell_type": "code",
      "metadata": {
        "id": "ZM0xi3jHEW-E",
        "colab_type": "code",
        "colab": {}
      },
      "source": [
        "import tensorflow as tf\n",
        "import numpy as np\n",
        "import time\n",
        "\n",
        "tf.enable_eager_execution()\n"
      ],
      "execution_count": 0,
      "outputs": []
    },
    {
      "cell_type": "markdown",
      "metadata": {
        "id": "ZNYAfnZdEqbw",
        "colab_type": "text"
      },
      "source": [
        "**Tensor**\n",
        "\n",
        "multi-dimentional array with a *data type* and *shape*"
      ]
    },
    {
      "cell_type": "code",
      "metadata": {
        "id": "HwOUHOdfEiqP",
        "colab_type": "code",
        "colab": {
          "base_uri": "https://localhost:8080/",
          "height": 119
        },
        "outputId": "8fb6bbe6-d2af-4ff5-9fa6-936f2e114034"
      },
      "source": [
        "print(tf.add(1, 2))\n",
        "print(tf.add([1, 2], [3, 4]))\n",
        "print(tf.square(5))\n",
        "print(tf.reduce_sum([1, 2, 3]))\n",
        "print(tf.encode_base64(\"hello world\"))\n",
        "\n",
        "# Operator overloading is also supported\n",
        "print(tf.square(2) + tf.square(3))"
      ],
      "execution_count": 9,
      "outputs": [
        {
          "output_type": "stream",
          "text": [
            "tf.Tensor(3, shape=(), dtype=int32)\n",
            "tf.Tensor([4 6], shape=(2,), dtype=int32)\n",
            "tf.Tensor(25, shape=(), dtype=int32)\n",
            "tf.Tensor(6, shape=(), dtype=int32)\n",
            "tf.Tensor(b'aGVsbG8gd29ybGQ', shape=(), dtype=string)\n",
            "tf.Tensor(13, shape=(), dtype=int32)\n"
          ],
          "name": "stdout"
        }
      ]
    },
    {
      "cell_type": "markdown",
      "metadata": {
        "id": "xerQBSPEFwgV",
        "colab_type": "text"
      },
      "source": [
        "**Compatible with NumPy**\n"
      ]
    },
    {
      "cell_type": "code",
      "metadata": {
        "id": "DxyyZJfEE_Md",
        "colab_type": "code",
        "colab": {
          "base_uri": "https://localhost:8080/",
          "height": 187
        },
        "outputId": "48a238da-9110-45aa-abe5-6bde88f216ce"
      },
      "source": [
        "ndarray = np.ones([3, 3]) #[[1,1,1], [1,1,1], [1,1,1]]\n",
        "tensor = (tf.multiply(ndarray, 42))\n",
        "print(tensor)\n",
        "print(np.add(tensor, 1))\n",
        "print(tensor.numpy())"
      ],
      "execution_count": 6,
      "outputs": [
        {
          "output_type": "stream",
          "text": [
            "tf.Tensor(\n",
            "[[42. 42. 42.]\n",
            " [42. 42. 42.]\n",
            " [42. 42. 42.]], shape=(3, 3), dtype=float64)\n",
            "[[43. 43. 43.]\n",
            " [43. 43. 43.]\n",
            " [43. 43. 43.]]\n",
            "[[42. 42. 42.]\n",
            " [42. 42. 42.]\n",
            " [42. 42. 42.]]\n"
          ],
          "name": "stdout"
        }
      ]
    },
    {
      "cell_type": "markdown",
      "metadata": {
        "id": "FqLIRRkMH6wP",
        "colab_type": "text"
      },
      "source": [
        "**Device** fully qualified string name of the device hosing the tensor\n",
        "\n",
        "\n",
        "the string should end with GPU:[N]\n"
      ]
    },
    {
      "cell_type": "code",
      "metadata": {
        "id": "58yCsnQCGfWR",
        "colab_type": "code",
        "colab": {
          "base_uri": "https://localhost:8080/",
          "height": 119
        },
        "outputId": "1f816140-7ee7-4b3f-cabd-1908a4b8647a"
      },
      "source": [
        "x = tf.random_uniform([3,3])\n",
        "\n",
        "print(x)\n",
        "print(tf.test.is_gpu_available()) #check if there is GPU available\n",
        "print(x.device.endswith('GPU:0')) #check if the tensor is on GPU 0\n"
      ],
      "execution_count": 11,
      "outputs": [
        {
          "output_type": "stream",
          "text": [
            "tf.Tensor(\n",
            "[[0.21759832 0.82162213 0.5759208 ]\n",
            " [0.8320174  0.6652118  0.20224798]\n",
            " [0.2834586  0.61974907 0.17528403]], shape=(3, 3), dtype=float32)\n",
            "False\n",
            "False\n"
          ],
          "name": "stdout"
        }
      ]
    },
    {
      "cell_type": "markdown",
      "metadata": {
        "id": "xZu28uVpKH6v",
        "colab_type": "text"
      },
      "source": [
        "**Dataset**\n",
        "\n",
        "represents an iput pipeline as a collection of inputs\n"
      ]
    },
    {
      "cell_type": "code",
      "metadata": {
        "id": "bI9hiRI5Hz7l",
        "colab_type": "code",
        "colab": {}
      },
      "source": [
        "ds_tensors = tf.data.Dataset.from_tensor_slices([1,2,3,4,5,6])\n",
        "\n",
        "import tempfile\n",
        "\n",
        "_, filename = tempfile.mkstemp()\n",
        "\n",
        "with open(filename, 'w') as f:\n",
        "  f.write(\"\"\"Line 1\n",
        "              Line 2\n",
        "                Line 3\n",
        "                \"\"\")\n",
        "  \n",
        "ds_file = tf.data.TextLineDataset(filename)"
      ],
      "execution_count": 0,
      "outputs": []
    },
    {
      "cell_type": "code",
      "metadata": {
        "id": "ZaTiD5ETK9J9",
        "colab_type": "code",
        "colab": {
          "base_uri": "https://localhost:8080/",
          "height": 122
        },
        "outputId": "66c3edc7-13c7-440c-a488-6ef74747b3c0"
      },
      "source": [
        "# map tensors to square values\n",
        "#shuffle the order\n",
        "#batch in sets of 2\n",
        "\n",
        "ds_tensors = ds_tensors.map(tf.square).shuffle(2).batch(2)\n",
        "\n",
        "ds_file = ds_file.batch(2)\n",
        "\n",
        "for x in ds_tensors: \n",
        "  print(x)\n",
        "\n",
        "for y in ds_file: \n",
        "  print(y)"
      ],
      "execution_count": 21,
      "outputs": [
        {
          "output_type": "stream",
          "text": [
            "tf.Tensor([4 1], shape=(2,), dtype=int32)\n",
            "tf.Tensor([16  9], shape=(2,), dtype=int32)\n",
            "tf.Tensor([25 36], shape=(2,), dtype=int32)\n",
            "tf.Tensor([b'Line 1' b'              Line 2'], shape=(2,), dtype=string)\n",
            "tf.Tensor([b'                Line 3' b'                '], shape=(2,), dtype=string)\n"
          ],
          "name": "stdout"
        }
      ]
    },
    {
      "cell_type": "code",
      "metadata": {
        "id": "mCbzd3oxLOmL",
        "colab_type": "code",
        "colab": {}
      },
      "source": [
        ""
      ],
      "execution_count": 0,
      "outputs": []
    },
    {
      "cell_type": "code",
      "metadata": {
        "id": "lknFXusoLgwN",
        "colab_type": "code",
        "colab": {}
      },
      "source": [
        ""
      ],
      "execution_count": 0,
      "outputs": []
    },
    {
      "cell_type": "markdown",
      "metadata": {
        "id": "Lreg73QRLrQj",
        "colab_type": "text"
      },
      "source": [
        "\n"
      ]
    }
  ]
}