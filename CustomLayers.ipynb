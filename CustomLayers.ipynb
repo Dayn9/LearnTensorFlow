{
  "nbformat": 4,
  "nbformat_minor": 0,
  "metadata": {
    "colab": {
      "name": "CustomLayers.ipynb",
      "version": "0.3.2",
      "provenance": [],
      "include_colab_link": true
    },
    "kernelspec": {
      "name": "python3",
      "display_name": "Python 3"
    }
  },
  "cells": [
    {
      "cell_type": "markdown",
      "metadata": {
        "id": "view-in-github",
        "colab_type": "text"
      },
      "source": [
        "<a href=\"https://colab.research.google.com/github/Dayn9/LearnTensorFlow/blob/master/CustomLayers.ipynb\" target=\"_parent\"><img src=\"https://colab.research.google.com/assets/colab-badge.svg\" alt=\"Open In Colab\"/></a>"
      ]
    },
    {
      "cell_type": "code",
      "metadata": {
        "id": "spsEM6spAjGa",
        "colab_type": "code",
        "colab": {}
      },
      "source": [
        "import tensorflow as tf\n",
        "\n",
        "tf.enable_eager_execution()"
      ],
      "execution_count": 0,
      "outputs": []
    },
    {
      "cell_type": "code",
      "metadata": {
        "id": "7fs-luHsAv6v",
        "colab_type": "code",
        "colab": {}
      },
      "source": [
        "# param_1: number of output dimensions\n",
        "# param_2: number of input dimensions\n",
        "layer = tf.keras.layers.Dense(10, input_shape=(None, 5))"
      ],
      "execution_count": 0,
      "outputs": []
    },
    {
      "cell_type": "code",
      "metadata": {
        "id": "KBT-QdbNCH_j",
        "colab_type": "code",
        "colab": {
          "base_uri": "https://localhost:8080/",
          "height": 204
        },
        "outputId": "e25badb4-9d68-4c8a-d1c7-d0c7b7304bcf"
      },
      "source": [
        "layer(tf.zeros([10, 5]))"
      ],
      "execution_count": 4,
      "outputs": [
        {
          "output_type": "execute_result",
          "data": {
            "text/plain": [
              "<tf.Tensor: id=32, shape=(10, 10), dtype=float32, numpy=\n",
              "array([[0., 0., 0., 0., 0., 0., 0., 0., 0., 0.],\n",
              "       [0., 0., 0., 0., 0., 0., 0., 0., 0., 0.],\n",
              "       [0., 0., 0., 0., 0., 0., 0., 0., 0., 0.],\n",
              "       [0., 0., 0., 0., 0., 0., 0., 0., 0., 0.],\n",
              "       [0., 0., 0., 0., 0., 0., 0., 0., 0., 0.],\n",
              "       [0., 0., 0., 0., 0., 0., 0., 0., 0., 0.],\n",
              "       [0., 0., 0., 0., 0., 0., 0., 0., 0., 0.],\n",
              "       [0., 0., 0., 0., 0., 0., 0., 0., 0., 0.],\n",
              "       [0., 0., 0., 0., 0., 0., 0., 0., 0., 0.],\n",
              "       [0., 0., 0., 0., 0., 0., 0., 0., 0., 0.]], dtype=float32)>"
            ]
          },
          "metadata": {
            "tags": []
          },
          "execution_count": 4
        }
      ]
    },
    {
      "cell_type": "code",
      "metadata": {
        "id": "g_kI7xbsCckN",
        "colab_type": "code",
        "colab": {
          "base_uri": "https://localhost:8080/",
          "height": 258
        },
        "outputId": "af10d3ed-5f76-40ed-b230-48d902717c16"
      },
      "source": [
        "layer.variables"
      ],
      "execution_count": 5,
      "outputs": [
        {
          "output_type": "execute_result",
          "data": {
            "text/plain": [
              "[<tf.Variable 'dense/kernel:0' shape=(5, 10) dtype=float32, numpy=\n",
              " array([[-0.49147177,  0.5880129 ,  0.34655958,  0.32511497, -0.15389541,\n",
              "         -0.350494  , -0.5219081 ,  0.41951996, -0.5459813 ,  0.06236625],\n",
              "        [-0.53577286,  0.21483958, -0.5961672 , -0.57579184, -0.379362  ,\n",
              "          0.38032025, -0.29565197,  0.15473968, -0.3487643 ,  0.20016086],\n",
              "        [ 0.33992022, -0.34530082,  0.57216233,  0.5874979 , -0.25944403,\n",
              "          0.1017139 ,  0.36146647, -0.18644959, -0.36663747, -0.0061397 ],\n",
              "        [-0.01196378,  0.5250301 ,  0.20066595, -0.5350768 , -0.40150523,\n",
              "          0.25918347, -0.2039544 ,  0.06138206, -0.4882117 , -0.42291635],\n",
              "        [-0.20290506, -0.42357728,  0.49139518, -0.38010794, -0.29247004,\n",
              "          0.09078324, -0.34122017,  0.4246946 , -0.06069356, -0.1446208 ]],\n",
              "       dtype=float32)>,\n",
              " <tf.Variable 'dense/bias:0' shape=(10,) dtype=float32, numpy=array([0., 0., 0., 0., 0., 0., 0., 0., 0., 0.], dtype=float32)>]"
            ]
          },
          "metadata": {
            "tags": []
          },
          "execution_count": 5
        }
      ]
    },
    {
      "cell_type": "code",
      "metadata": {
        "id": "L5lLhkTjCQ0y",
        "colab_type": "code",
        "colab": {
          "base_uri": "https://localhost:8080/",
          "height": 258
        },
        "outputId": "90e7699f-b515-4f0a-b82b-85584b027e3f"
      },
      "source": [
        "layer.kernel, layer.bias"
      ],
      "execution_count": 6,
      "outputs": [
        {
          "output_type": "execute_result",
          "data": {
            "text/plain": [
              "(<tf.Variable 'dense/kernel:0' shape=(5, 10) dtype=float32, numpy=\n",
              " array([[-0.49147177,  0.5880129 ,  0.34655958,  0.32511497, -0.15389541,\n",
              "         -0.350494  , -0.5219081 ,  0.41951996, -0.5459813 ,  0.06236625],\n",
              "        [-0.53577286,  0.21483958, -0.5961672 , -0.57579184, -0.379362  ,\n",
              "          0.38032025, -0.29565197,  0.15473968, -0.3487643 ,  0.20016086],\n",
              "        [ 0.33992022, -0.34530082,  0.57216233,  0.5874979 , -0.25944403,\n",
              "          0.1017139 ,  0.36146647, -0.18644959, -0.36663747, -0.0061397 ],\n",
              "        [-0.01196378,  0.5250301 ,  0.20066595, -0.5350768 , -0.40150523,\n",
              "          0.25918347, -0.2039544 ,  0.06138206, -0.4882117 , -0.42291635],\n",
              "        [-0.20290506, -0.42357728,  0.49139518, -0.38010794, -0.29247004,\n",
              "          0.09078324, -0.34122017,  0.4246946 , -0.06069356, -0.1446208 ]],\n",
              "       dtype=float32)>,\n",
              " <tf.Variable 'dense/bias:0' shape=(10,) dtype=float32, numpy=array([0., 0., 0., 0., 0., 0., 0., 0., 0., 0.], dtype=float32)>)"
            ]
          },
          "metadata": {
            "tags": []
          },
          "execution_count": 6
        }
      ]
    },
    {
      "cell_type": "markdown",
      "metadata": {
        "id": "JAg5NVglDZao",
        "colab_type": "text"
      },
      "source": [
        "## Custom Layers"
      ]
    },
    {
      "cell_type": "code",
      "metadata": {
        "id": "XbT1-ZivDBSY",
        "colab_type": "code",
        "colab": {
          "base_uri": "https://localhost:8080/",
          "height": 408
        },
        "outputId": "9ad93f39-d7b6-42d1-9f4e-4cecb14ca5ad"
      },
      "source": [
        "class MyDenseLayer(tf.keras.layers.Layer):\n",
        "  def __init__(self, num_outputs):\n",
        "    super(MyDenseLayer, self).__init__()\n",
        "    self.num_outputs = num_outputs\n",
        "    \n",
        "  def build(self, input_shape):\n",
        "    self.kernel = self.add_variable(\"kernel\", shape = [int(input_shape[-1]), self.num_outputs])\n",
        "    \n",
        "  def call(self, input):\n",
        "    return tf.matmul(input, self.kernel)\n",
        "  \n",
        "  \n",
        "layer = MyDenseLayer(10)\n",
        "print(layer(tf.zeros([10, 5])))\n",
        "print(layer.trainable_variables)"
      ],
      "execution_count": 7,
      "outputs": [
        {
          "output_type": "stream",
          "text": [
            "tf.Tensor(\n",
            "[[0. 0. 0. 0. 0. 0. 0. 0. 0. 0.]\n",
            " [0. 0. 0. 0. 0. 0. 0. 0. 0. 0.]\n",
            " [0. 0. 0. 0. 0. 0. 0. 0. 0. 0.]\n",
            " [0. 0. 0. 0. 0. 0. 0. 0. 0. 0.]\n",
            " [0. 0. 0. 0. 0. 0. 0. 0. 0. 0.]\n",
            " [0. 0. 0. 0. 0. 0. 0. 0. 0. 0.]\n",
            " [0. 0. 0. 0. 0. 0. 0. 0. 0. 0.]\n",
            " [0. 0. 0. 0. 0. 0. 0. 0. 0. 0.]\n",
            " [0. 0. 0. 0. 0. 0. 0. 0. 0. 0.]\n",
            " [0. 0. 0. 0. 0. 0. 0. 0. 0. 0.]], shape=(10, 10), dtype=float32)\n",
            "[<tf.Variable 'my_dense_layer/kernel:0' shape=(5, 10) dtype=float32, numpy=\n",
            "array([[ 0.338732  , -0.4648564 ,  0.16124123, -0.40921158, -0.11538976,\n",
            "        -0.6114996 , -0.2777559 ,  0.13125998,  0.14014316, -0.6219175 ],\n",
            "       [ 0.28279674,  0.09606445,  0.01802731, -0.1938129 ,  0.26058322,\n",
            "        -0.3249506 ,  0.41723496, -0.44317442,  0.44356257,  0.60356766],\n",
            "       [-0.18025577, -0.4502401 , -0.34328264, -0.08563226,  0.3291216 ,\n",
            "        -0.43460375,  0.35783893,  0.31821138,  0.12052906, -0.49804586],\n",
            "       [-0.23089755,  0.43926448, -0.58806485,  0.40988892, -0.38268206,\n",
            "         0.47965676, -0.26533687, -0.37243518, -0.54304075,  0.13595182],\n",
            "       [ 0.14218211,  0.39155763, -0.4903499 ,  0.26476943,  0.37384087,\n",
            "        -0.2325784 , -0.03482985,  0.35870218,  0.30865395,  0.38375443]],\n",
            "      dtype=float32)>]\n"
          ],
          "name": "stdout"
        }
      ]
    },
    {
      "cell_type": "code",
      "metadata": {
        "id": "267taYKPEcvI",
        "colab_type": "code",
        "colab": {}
      },
      "source": [
        "class ResnetIdentityBlock(tf.keras.Model):\n",
        "  def __init__(self, kernel_size, filters):\n",
        "    super(ResnetIdentityBlock, self).__init__(name = '')\n",
        "    filters1, filters2, filters3 = filters\n",
        "    \n",
        "    self.conv2a = tf.keras.layers.Conv2D(filters1, (1,1))\n",
        "    self.bn2a = tf.keras.layers.BatchNormalization()\n",
        "    \n",
        "    self.conv2b = tf.keras.layers.Conv2D(filters2, (1,1))\n",
        "    self.bn2b = tf.keras.layers.BatchNormalization()\n",
        "    \n",
        "    self.conv2c = tf.keras.layers.Conv2D(filters3, (1,1))\n",
        "    self.bn2c = tf.keras.layers.BatchNormalization()\n",
        "    \n",
        "  def call(self, input_tensor, training = False):\n",
        "    x = self.conv2a(input_tensor)\n",
        "    x = self.bn2a(x, training = training)\n",
        "    x = tf.nn.relu(x)\n",
        "    \n",
        "    x = self.conv2b(x)\n",
        "    x = self.bn2a(x, training = training)\n",
        "    x = tf.nn.relu(x)\n",
        "    \n",
        "    x = self.conv2b(x)\n",
        "    x = self.bn2a(x, training = training)\n",
        "    x += input_tensor\n",
        "    \n",
        "    return tf.nn.relu(x)"
      ],
      "execution_count": 0,
      "outputs": []
    },
    {
      "cell_type": "code",
      "metadata": {
        "id": "ibthgobSJXCG",
        "colab_type": "code",
        "colab": {
          "base_uri": "https://localhost:8080/",
          "height": 34
        },
        "outputId": "9d54ffe8-40ce-4fef-8f18-66fccf75d328"
      },
      "source": [
        "block = ResnetIdentityBlock(1, [1,2,3])\n",
        "#print(block(tf.zeros([1, 2, 3, 3])))\n",
        "print([x.name for x in block.trainable_variables])"
      ],
      "execution_count": 13,
      "outputs": [
        {
          "output_type": "stream",
          "text": [
            "[]\n"
          ],
          "name": "stdout"
        }
      ]
    },
    {
      "cell_type": "code",
      "metadata": {
        "id": "aX4UMYsFKboz",
        "colab_type": "code",
        "colab": {}
      },
      "source": [
        ""
      ],
      "execution_count": 0,
      "outputs": []
    }
  ]
}