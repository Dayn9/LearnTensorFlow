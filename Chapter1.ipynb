{
  "nbformat": 4,
  "nbformat_minor": 0,
  "metadata": {
    "colab": {
      "name": "Chapter1.ipynb",
      "version": "0.3.2",
      "provenance": [],
      "include_colab_link": true
    },
    "kernelspec": {
      "name": "python3",
      "display_name": "Python 3"
    }
  },
  "cells": [
    {
      "cell_type": "markdown",
      "metadata": {
        "id": "view-in-github",
        "colab_type": "text"
      },
      "source": [
        "<a href=\"https://colab.research.google.com/github/Dayn9/LearnTensorFlow/blob/master/Chapter1.ipynb\" target=\"_parent\"><img src=\"https://colab.research.google.com/assets/colab-badge.svg\" alt=\"Open In Colab\"/></a>"
      ]
    },
    {
      "cell_type": "markdown",
      "metadata": {
        "id": "4JIBC8Z9QeRz",
        "colab_type": "text"
      },
      "source": [
        "#Chapter 1\n",
        "\n",
        "http://neuralnetworksanddeeplearning.com/chap1.html"
      ]
    },
    {
      "cell_type": "markdown",
      "metadata": {
        "id": "WN79gsqoTOgs",
        "colab_type": "text"
      },
      "source": [
        "### Import"
      ]
    },
    {
      "cell_type": "code",
      "metadata": {
        "id": "HjBK3QxrPgQ8",
        "colab_type": "code",
        "colab": {}
      },
      "source": [
        "#!git clone https://github.com/mnielsen/neural-networks-and-deep-learning.git\n",
        "\n",
        "import numpy as np\n",
        "import random"
      ],
      "execution_count": 0,
      "outputs": []
    },
    {
      "cell_type": "markdown",
      "metadata": {
        "id": "TcvmjwwPTSo7",
        "colab_type": "text"
      },
      "source": [
        "### Math and Helper functions\n"
      ]
    },
    {
      "cell_type": "code",
      "metadata": {
        "id": "SMVQ_8VuTWi8",
        "colab_type": "code",
        "colab": {}
      },
      "source": [
        "def sigmoid(z):\n",
        "  return 1.0 / (1.0 + np.exp(-z))"
      ],
      "execution_count": 0,
      "outputs": []
    },
    {
      "cell_type": "markdown",
      "metadata": {
        "id": "IgmCn7KuQlcb",
        "colab_type": "text"
      },
      "source": [
        "### Construct the Network class"
      ]
    },
    {
      "cell_type": "code",
      "metadata": {
        "id": "MiVH3_2yPlze",
        "colab_type": "code",
        "colab": {}
      },
      "source": [
        "class Network(object):\n",
        "  \n",
        "  # Constructor\n",
        "  # sizes: (array) number of neurons in each layer of the network \n",
        "  def __init__(self, sizes):\n",
        "    self.num_layers = len(sizes)\n",
        "    self.sizes = sizes\n",
        "    \n",
        "    # create a bias for each neuron past the first layer (random normal dist)\n",
        "    self.biases = [np.random.randn(y, 1) for y in sizes[1:]] \n",
        "    print(self.biases) # y: 3 - 1\n",
        "    \n",
        "    #create a weight for each conncetion (random normal dist)\n",
        "    self.weights = [np.random.randn(y,x) for x,y in zip(sizes[:-1], sizes[1:])]\n",
        "    print(self.weights) # x,y: (2,3) - (3,1)\n",
        "  \n",
        "  # \n",
        "  # a: () activation input\n",
        "  def feedforward(self, a):\n",
        "    for b, w in zip(self.biases, self.weights):\n",
        "      a = sigmoid(np.dot(w, a) + b)\n",
        "    \n",
        "    "
      ],
      "execution_count": 0,
      "outputs": []
    },
    {
      "cell_type": "code",
      "metadata": {
        "id": "7g5qkITJRcNn",
        "colab_type": "code",
        "colab": {
          "base_uri": "https://localhost:8080/",
          "height": 139
        },
        "outputId": "280c2b72-25e3-4cae-9256-70d75437be4d"
      },
      "source": [
        "net = Network([2, 3, 1])"
      ],
      "execution_count": 12,
      "outputs": [
        {
          "output_type": "stream",
          "text": [
            "[array([[-0.38242552],\n",
            "       [-0.90798517],\n",
            "       [-1.97756317]]), array([[1.69446631]])]\n",
            "[array([[-0.23682965, -0.71062608],\n",
            "       [-0.90455681,  2.00892107],\n",
            "       [-0.42177316, -1.03532225]]), array([[-1.47699226, -1.26304358,  0.21052205]])]\n"
          ],
          "name": "stdout"
        }
      ]
    }
  ]
}